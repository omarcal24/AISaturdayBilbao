{
 "cells": [
  {
   "cell_type": "code",
   "execution_count": null,
   "id": "121daee7",
   "metadata": {},
   "outputs": [],
   "source": [
    "!pip install transformers"
   ]
  },
  {
   "cell_type": "code",
   "execution_count": null,
   "id": "3b2bf1d4",
   "metadata": {},
   "outputs": [],
   "source": [
    "class DisLyrics:\n",
    "    def __init__(self, distance, lo, ld):\n",
    "        self.distance = distance\n",
    "        self.lo = lo\n",
    "        self.ld = ld\n",
    "\n",
    "\n",
    "def set_distance():\n",
    "  tokenizer = RobertaTokenizer.from_pretrained('roberta-large')\n",
    "  df = pd.read_excel(\"all_songs.xlsx\")\n",
    "  l_list = list(df['LYRICS'])\n",
    "  tk_list = tokenizer(l_list, padding=True, truncation=True, max_length=512)\n",
    "\n",
    "  df_tk = pd.DataFrame(columns=['LYRICS_TK'])\n",
    "\n",
    "  for i in tk_list['input_ids']:\n",
    "    r =  {\"LYRICS_TK\": i} \n",
    "    n_row = pd.Series(r)\n",
    "    df_tk  = pd.concat([df_tk, n_row.to_frame().T], ignore_index=True)\n",
    "  \n",
    "  dis_list = []\n",
    "  D_LYRICS = []\n",
    "  for i in  range(len(df_tk[\"LYRICS_TK\"])):\n",
    "      for j in range(len(df_tk[\"LYRICS_TK\"])):\n",
    "          X = np.array([df_tk[\"LYRICS_TK\"][i]])\n",
    "          Y = np.array([df_tk[\"LYRICS_TK\"][j]])\n",
    "          dis = pairwise_distances(X, Y, metric='cosine')\n",
    "          dis_list.append(dis[0][0])\n",
    "          d_l = DisLyrics(dis[0][0], i, j)\n",
    "          D_LYRICS.append(d_l)\n",
    "  \n",
    "  df_dis = pd.DataFrame()\n",
    "\n",
    "  x = 0 \n",
    "  y = 109\n",
    "  c = 0\n",
    "  dis = []\n",
    "  while(y<=11881):\n",
    "      for d in D_LYRICS[x:y]:\n",
    "          dis.append(d.distance)\n",
    "    \n",
    "      c_name = \"L\" + str(c)\n",
    "      df_dis[c_name] = dis\n",
    "      x += 109\n",
    "      y += 109\n",
    "      c += 1\n",
    "      dis = []\n",
    "  \n",
    "  df_dis.to_e\n",
    "  return df_dis\n"
   ]
  },
  {
   "cell_type": "code",
   "execution_count": null,
   "id": "be1e1882",
   "metadata": {},
   "outputs": [],
   "source": [
    "df_dis = set_distance()"
   ]
  },
  {
   "cell_type": "code",
   "execution_count": null,
   "id": "11ddff3c",
   "metadata": {},
   "outputs": [],
   "source": [
    "df_dis.to_excel(\"dis.xlsx\")"
   ]
  }
 ],
 "metadata": {
  "kernelspec": {
   "display_name": "Python 3 (ipykernel)",
   "language": "python",
   "name": "python3"
  },
  "language_info": {
   "codemirror_mode": {
    "name": "ipython",
    "version": 3
   },
   "file_extension": ".py",
   "mimetype": "text/x-python",
   "name": "python",
   "nbconvert_exporter": "python",
   "pygments_lexer": "ipython3",
   "version": "3.8.2"
  }
 },
 "nbformat": 4,
 "nbformat_minor": 5
}
