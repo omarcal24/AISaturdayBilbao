{
 "cells": [
  {
   "cell_type": "code",
   "execution_count": null,
   "metadata": {},
   "outputs": [],
   "source": [
    "!pip install pyTelegramBotAPI\n",
    "!pip install transformers\n",
    "!pip install -U scikit-learn"
   ]
  },
  {
   "cell_type": "code",
   "execution_count": null,
   "metadata": {
    "id": "GtwFoHMs4qge"
   },
   "outputs": [],
   "source": [
    "import telebot\n",
    "import pandas as pd\n",
    "from sklearn.cluster import KMeans\n",
    "\n",
    "\n",
    "def listener(mensajes):\n",
    "    df = pd.read_excel(\"all_songs_distances.xlsx\")\n",
    "    df_km = df.copy()\n",
    "    df_km.drop(columns=[\"artists\", \"LYRICS\", \"id\", \"name\", \"id_artists\", \"key\"], inplace=True)\n",
    "    num_clusters = 4\n",
    "    km = KMeans(n_clusters=num_clusters,random_state=10,n_init=50)\n",
    "    km.fit(df_km) \n",
    "\n",
    "    km_results = df.copy()\n",
    "    km_results['km_cluster'] = km.labels_\n",
    "  \n",
    "    for m in mensajes:\n",
    "        chat_id = m.chat.id\n",
    "        text = m.text\n",
    "        if(text!='1' and text!='2' and text!='3'):\n",
    "          bot.send_message(chat_id, str(\"Elige una cancion\"))\n",
    "          bot.send_message(chat_id, str(\"1. Blink 182 - Dammit\"))\n",
    "          bot.send_message(chat_id, str(\"2. Led Zepellin - Stairway to heaven\"))\n",
    "          bot.send_message(chat_id, str(\"3. Red Hot Chili Peppers - Scar Tissue\"))\n",
    "          \n",
    "        if text=='1':\n",
    "          r = km_results.query(\"name == 'Dammit'\")\n",
    "          c = list(r['km_cluster'])[0]\n",
    "          df = km_results.query(f\"km_cluster == {c}\")\n",
    "          result = df.head()\n",
    "\n",
    "          for a,b in zip(result[\"artists\"],result[\"name\"]) :\n",
    "            r = \"Artista: \" + a + '\\t' \"Canción: \"  + b\n",
    "            bot.send_message(chat_id, str(r))\n",
    "\n",
    "        if text=='2':\n",
    "          r = km_results.query(\"name == 'Stairway to Heaven'\")\n",
    "          c = list(r['km_cluster'])[0]\n",
    "          df = km_results.query(f\"km_cluster == {c}\")\n",
    "          result = df.head()\n",
    "\n",
    "          for a,b in zip(result[\"artists\"],result[\"name\"]) :\n",
    "            r = \"Artista: \" + a + '\\t' \"Canción: \"  + b\n",
    "            bot.send_message(chat_id, str(r))\n",
    "\n",
    "\n",
    "        if text=='3':\n",
    "          r = km_results.query(\"name == 'Scar Tissue'\")\n",
    "          c = list(r['km_cluster'])[0]\n",
    "          df = km_results.query(f\"km_cluster == {c}\")\n",
    "          result = df.head()\n",
    "\n",
    "          for a,b in zip(result[\"artists\"],result[\"name\"]) :\n",
    "            r = \"Artista: \" + a + '\\t' \"Canción: \"  + b\n",
    "            bot.send_message(chat_id, str(r))\n",
    "                      \n",
    "\n",
    "while True: \n",
    "    TOKEN = '5841364058:AAHjRSsbfeY9jh4Zva6T6PP-lmNQXqPBFTQ'\n",
    "    bot = telebot.TeleBot(TOKEN)\n",
    "    bot.set_update_listener(listener) #registrar la funcion listener\n",
    "    bot.polling()\n",
    "\n"
   ]
  }
 ],
 "metadata": {
  "colab": {
   "provenance": []
  },
  "kernelspec": {
   "display_name": "Python 3 (ipykernel)",
   "language": "python",
   "name": "python3"
  },
  "language_info": {
   "codemirror_mode": {
    "name": "ipython",
    "version": 3
   },
   "file_extension": ".py",
   "mimetype": "text/x-python",
   "name": "python",
   "nbconvert_exporter": "python",
   "pygments_lexer": "ipython3",
   "version": "3.8.2"
  }
 },
 "nbformat": 4,
 "nbformat_minor": 1
}
